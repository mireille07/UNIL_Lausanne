{
  "cells": [
    {
      "cell_type": "markdown",
      "source": [
        "#Detecting the difficulty level of French texts\n",
        "\n",
        "Given a text in French, can you predict its difficulty level (A1, A2, B1, B2, C1, C2)?"
      ],
      "metadata": {
        "id": "VKmKkoeW1490"
      }
    },
    {
      "cell_type": "markdown",
      "metadata": {
        "id": "WOv_1ffzbc25"
      },
      "source": [
        "# 1- Environnement Settings#"
      ]
    },
    {
      "cell_type": "markdown",
      "metadata": {
        "id": "zq-7cBnKgys2"
      },
      "source": [
        "###IMPORTS\n",
        "---------------------------------------------------------------------------------------------"
      ]
    },
    {
      "cell_type": "code",
      "execution_count": null,
      "metadata": {
        "id": "DpTMrxkag4Td"
      },
      "outputs": [],
      "source": [
        "!pip install -U spacy\n",
        "\n",
        "!python ourfunctions.py\n",
        "\n",
        "from ourfunctions import *\n",
        "\n",
        "import string\n",
        "\n",
        "import os\n",
        "import sys\n",
        "\n",
        "import pandas as pd\n",
        "import numpy as np\n",
        "import numpy\n",
        "import csv\n",
        "from tqdm import tqdm\n",
        "\n",
        "import matplotlib.pyplot as plt\n",
        "import seaborn as sns\n",
        "from sklearn.metrics import confusion_matrix\n",
        "from sklearn.model_selection import train_test_split\n",
        "from sklearn.pipeline import Pipeline\n",
        "from sklearn.feature_extraction.text import TfidfVectorizer\n",
        "from sklearn.linear_model import LogisticRegression\n",
        "from sklearn.feature_extraction.text import CountVectorizer\n",
        "from sklearn.model_selection import train_test_split\n",
        "\n",
        "#Logistic regression Import\n",
        "\n",
        "from sklearn.linear_model import LogisticRegression\n",
        "from sklearn.pipeline import Pipeline\n",
        "from sklearn.metrics import confusion_matrix, accuracy_score, precision_score, recall_score, f1_score\n",
        "from sklearn.metrics import classification_report\n",
        "\n",
        "#KNN IMPORT\n",
        "\n",
        "from sklearn.feature_extraction.text import TfidfTransformer\n",
        "from sklearn.feature_extraction.text import CountVectorizer\n",
        "from sklearn.neighbors import KNeighborsClassifier\n",
        "from sklearn.model_selection import GridSearchCV\n",
        "\n",
        "import tensorflow as tf\n",
        "from tensorflow import keras\n",
        "\n",
        "\n",
        "from sklearn.ensemble import RandomForestClassifier\n",
        "from sklearn.neighbors import KNeighborsClassifier\n",
        "from sklearn.model_selection import GridSearchCV\n",
        "from sklearn.tree import DecisionTreeClassifier\n",
        "\n",
        "import spacy as spacy\n",
        "from spacy.attrs import LOWER, POS, ENT_TYPE, IS_ALPHA\n",
        "from spacy.tokens import Doc\n",
        "\n",
        "from spacy import displacy\n",
        "from sklearn.feature_extraction.text import CountVectorizer, TfidfVectorizer\n",
        "\n",
        "\n",
        "from gensim.models import word2vec\n",
        "\n",
        "import nltk as nltk\n",
        "nltk.download('stopwords')\n",
        "from nltk.corpus import stopwords\n",
        "nltk.download('punkt')\n",
        "from nltk import word_tokenize\n",
        "\n",
        "import re\n",
        "#PCA\n",
        "from sklearn.preprocessing import StandardScaler, MinMaxScaler\n",
        "from sklearn.decomposition import PCA\n",
        "\n",
        "#Confusion Matrix \n",
        "\n",
        "%matplotlib inline\n",
        "import numpy as np\n",
        "import matplotlib.pyplot as plt\n",
        "import pandas as pd \n",
        "import seaborn as sns\n",
        "from sklearn.metrics import confusion_matrix, ConfusionMatrixDisplay\n",
        "\n",
        "\n",
        "#Bert model\n",
        "from sklearn.preprocessing import LabelEncoder\n",
        "\n",
        "from nltk.stem import WordNetLemmatizer\n",
        "\n",
        "from IPython.display import YouTubeVideo\n",
        "\n",
        "\n",
        "np.random.seed = 0"
      ]
    },
    {
      "cell_type": "code",
      "execution_count": 3,
      "metadata": {
        "id": "g3-77Z_-FWVy",
        "colab": {
          "base_uri": "https://localhost:8080/"
        },
        "outputId": "bbc43521-ef3b-4840-ec48-8c28838d49af"
      },
      "outputs": [
        {
          "output_type": "stream",
          "name": "stdout",
          "text": [
            "/usr/local/lib/python3.8/dist-packages/torch/cuda/__init__.py:497: UserWarning: Can't initialize NVML\n",
            "  warnings.warn(\"Can't initialize NVML\")\n",
            "2022-12-22 10:41:38.702817: E tensorflow/stream_executor/cuda/cuda_driver.cc:271] failed call to cuInit: CUDA_ERROR_NO_DEVICE: no CUDA-capable device is detected\n",
            "\u001b[38;5;3m⚠ As of spaCy v3.0, shortcuts like 'fr' are deprecated. Please use the\n",
            "full pipeline package name 'fr_core_news_sm' instead.\u001b[0m\n",
            "Looking in indexes: https://pypi.org/simple, https://us-python.pkg.dev/colab-wheels/public/simple/\n",
            "Collecting fr-core-news-sm==3.4.0\n",
            "  Downloading https://github.com/explosion/spacy-models/releases/download/fr_core_news_sm-3.4.0/fr_core_news_sm-3.4.0-py3-none-any.whl (16.3 MB)\n",
            "\u001b[K     |████████████████████████████████| 16.3 MB 281 kB/s \n",
            "\u001b[?25hRequirement already satisfied: spacy<3.5.0,>=3.4.0 in /usr/local/lib/python3.8/dist-packages (from fr-core-news-sm==3.4.0) (3.4.4)\n",
            "Requirement already satisfied: murmurhash<1.1.0,>=0.28.0 in /usr/local/lib/python3.8/dist-packages (from spacy<3.5.0,>=3.4.0->fr-core-news-sm==3.4.0) (1.0.9)\n",
            "Requirement already satisfied: cymem<2.1.0,>=2.0.2 in /usr/local/lib/python3.8/dist-packages (from spacy<3.5.0,>=3.4.0->fr-core-news-sm==3.4.0) (2.0.7)\n",
            "Requirement already satisfied: tqdm<5.0.0,>=4.38.0 in /usr/local/lib/python3.8/dist-packages (from spacy<3.5.0,>=3.4.0->fr-core-news-sm==3.4.0) (4.64.1)\n",
            "Requirement already satisfied: preshed<3.1.0,>=3.0.2 in /usr/local/lib/python3.8/dist-packages (from spacy<3.5.0,>=3.4.0->fr-core-news-sm==3.4.0) (3.0.8)\n",
            "Requirement already satisfied: numpy>=1.15.0 in /usr/local/lib/python3.8/dist-packages (from spacy<3.5.0,>=3.4.0->fr-core-news-sm==3.4.0) (1.21.6)\n",
            "Requirement already satisfied: packaging>=20.0 in /usr/local/lib/python3.8/dist-packages (from spacy<3.5.0,>=3.4.0->fr-core-news-sm==3.4.0) (21.3)\n",
            "Requirement already satisfied: wasabi<1.1.0,>=0.9.1 in /usr/local/lib/python3.8/dist-packages (from spacy<3.5.0,>=3.4.0->fr-core-news-sm==3.4.0) (0.10.1)\n",
            "Requirement already satisfied: langcodes<4.0.0,>=3.2.0 in /usr/local/lib/python3.8/dist-packages (from spacy<3.5.0,>=3.4.0->fr-core-news-sm==3.4.0) (3.3.0)\n",
            "Requirement already satisfied: spacy-loggers<2.0.0,>=1.0.0 in /usr/local/lib/python3.8/dist-packages (from spacy<3.5.0,>=3.4.0->fr-core-news-sm==3.4.0) (1.0.4)\n",
            "Requirement already satisfied: catalogue<2.1.0,>=2.0.6 in /usr/local/lib/python3.8/dist-packages (from spacy<3.5.0,>=3.4.0->fr-core-news-sm==3.4.0) (2.0.8)\n",
            "Requirement already satisfied: requests<3.0.0,>=2.13.0 in /usr/local/lib/python3.8/dist-packages (from spacy<3.5.0,>=3.4.0->fr-core-news-sm==3.4.0) (2.23.0)\n",
            "Requirement already satisfied: jinja2 in /usr/local/lib/python3.8/dist-packages (from spacy<3.5.0,>=3.4.0->fr-core-news-sm==3.4.0) (2.11.3)\n",
            "Requirement already satisfied: typer<0.8.0,>=0.3.0 in /usr/local/lib/python3.8/dist-packages (from spacy<3.5.0,>=3.4.0->fr-core-news-sm==3.4.0) (0.7.0)\n",
            "Requirement already satisfied: pydantic!=1.8,!=1.8.1,<1.11.0,>=1.7.4 in /usr/local/lib/python3.8/dist-packages (from spacy<3.5.0,>=3.4.0->fr-core-news-sm==3.4.0) (1.10.2)\n",
            "Requirement already satisfied: spacy-legacy<3.1.0,>=3.0.10 in /usr/local/lib/python3.8/dist-packages (from spacy<3.5.0,>=3.4.0->fr-core-news-sm==3.4.0) (3.0.10)\n",
            "Requirement already satisfied: setuptools in /usr/local/lib/python3.8/dist-packages (from spacy<3.5.0,>=3.4.0->fr-core-news-sm==3.4.0) (57.4.0)\n",
            "Requirement already satisfied: thinc<8.2.0,>=8.1.0 in /usr/local/lib/python3.8/dist-packages (from spacy<3.5.0,>=3.4.0->fr-core-news-sm==3.4.0) (8.1.5)\n",
            "Requirement already satisfied: srsly<3.0.0,>=2.4.3 in /usr/local/lib/python3.8/dist-packages (from spacy<3.5.0,>=3.4.0->fr-core-news-sm==3.4.0) (2.4.5)\n",
            "Requirement already satisfied: smart-open<7.0.0,>=5.2.1 in /usr/local/lib/python3.8/dist-packages (from spacy<3.5.0,>=3.4.0->fr-core-news-sm==3.4.0) (6.3.0)\n",
            "Requirement already satisfied: pathy>=0.3.5 in /usr/local/lib/python3.8/dist-packages (from spacy<3.5.0,>=3.4.0->fr-core-news-sm==3.4.0) (0.10.1)\n",
            "Requirement already satisfied: pyparsing!=3.0.5,>=2.0.2 in /usr/local/lib/python3.8/dist-packages (from packaging>=20.0->spacy<3.5.0,>=3.4.0->fr-core-news-sm==3.4.0) (3.0.9)\n",
            "Requirement already satisfied: typing-extensions>=4.1.0 in /usr/local/lib/python3.8/dist-packages (from pydantic!=1.8,!=1.8.1,<1.11.0,>=1.7.4->spacy<3.5.0,>=3.4.0->fr-core-news-sm==3.4.0) (4.4.0)\n",
            "Requirement already satisfied: urllib3!=1.25.0,!=1.25.1,<1.26,>=1.21.1 in /usr/local/lib/python3.8/dist-packages (from requests<3.0.0,>=2.13.0->spacy<3.5.0,>=3.4.0->fr-core-news-sm==3.4.0) (1.24.3)\n",
            "Requirement already satisfied: certifi>=2017.4.17 in /usr/local/lib/python3.8/dist-packages (from requests<3.0.0,>=2.13.0->spacy<3.5.0,>=3.4.0->fr-core-news-sm==3.4.0) (2022.12.7)\n",
            "Requirement already satisfied: idna<3,>=2.5 in /usr/local/lib/python3.8/dist-packages (from requests<3.0.0,>=2.13.0->spacy<3.5.0,>=3.4.0->fr-core-news-sm==3.4.0) (2.10)\n",
            "Requirement already satisfied: chardet<4,>=3.0.2 in /usr/local/lib/python3.8/dist-packages (from requests<3.0.0,>=2.13.0->spacy<3.5.0,>=3.4.0->fr-core-news-sm==3.4.0) (3.0.4)\n",
            "Requirement already satisfied: confection<1.0.0,>=0.0.1 in /usr/local/lib/python3.8/dist-packages (from thinc<8.2.0,>=8.1.0->spacy<3.5.0,>=3.4.0->fr-core-news-sm==3.4.0) (0.0.3)\n",
            "Requirement already satisfied: blis<0.8.0,>=0.7.8 in /usr/local/lib/python3.8/dist-packages (from thinc<8.2.0,>=8.1.0->spacy<3.5.0,>=3.4.0->fr-core-news-sm==3.4.0) (0.7.9)\n",
            "Requirement already satisfied: click<9.0.0,>=7.1.1 in /usr/local/lib/python3.8/dist-packages (from typer<0.8.0,>=0.3.0->spacy<3.5.0,>=3.4.0->fr-core-news-sm==3.4.0) (7.1.2)\n",
            "Requirement already satisfied: MarkupSafe>=0.23 in /usr/local/lib/python3.8/dist-packages (from jinja2->spacy<3.5.0,>=3.4.0->fr-core-news-sm==3.4.0) (2.0.1)\n",
            "Installing collected packages: fr-core-news-sm\n",
            "Successfully installed fr-core-news-sm-3.4.0\n",
            "\u001b[38;5;2m✔ Download and installation successful\u001b[0m\n",
            "You can now load the package via spacy.load('fr_core_news_sm')\n"
          ]
        }
      ],
      "source": [
        "# Download the French language model\n",
        "!python -m spacy download fr\n"
      ]
    },
    {
      "cell_type": "code",
      "execution_count": 4,
      "metadata": {
        "id": "83djJRMJJQU8"
      },
      "outputs": [],
      "source": [
        "\n",
        "# Load French language model:\n",
        "sp = spacy.load('fr_core_news_sm')"
      ]
    },
    {
      "cell_type": "markdown",
      "metadata": {
        "id": "ugfQs6UjOsa6"
      },
      "source": [
        "#2- DataFrames Settings \n",
        "--------------------------------------"
      ]
    },
    {
      "cell_type": "markdown",
      "source": [],
      "metadata": {
        "id": "K1nDsdX2ipJP"
      }
    },
    {
      "cell_type": "markdown",
      "source": [
        "1- df_training represente the dataframe containg the training set on which we wil test the models."
      ],
      "metadata": {
        "id": "1w2diPTQoCVD"
      }
    },
    {
      "cell_type": "code",
      "execution_count": 5,
      "metadata": {
        "id": "MoY3_RIN6sWd"
      },
      "outputs": [],
      "source": [
        "#1\n",
        "\n",
        "training_data = 'https://raw.githubusercontent.com/mireille07/UNIL_Lausanne/main/Data/training_data.csv'\n",
        "\n",
        "df_training  = pd.read_csv(training_data, encoding='utf-8')"
      ]
    },
    {
      "cell_type": "code",
      "execution_count": null,
      "metadata": {
        "id": "-NIJAp8z6sKn",
        "colab": {
          "base_uri": "https://localhost:8080/",
          "height": 81
        },
        "outputId": "65e5e96d-cc59-4ec3-c8c6-8165f70e7bbc"
      },
      "outputs": [
        {
          "output_type": "execute_result",
          "data": {
            "text/plain": [
              "   id                                           sentence difficulty\n",
              "0   0  Les coûts kilométriques réels peuvent diverger...         C1"
            ],
            "text/html": [
              "\n",
              "  <div id=\"df-02518b71-1109-4ac6-b1ce-3b0f85c7b94b\">\n",
              "    <div class=\"colab-df-container\">\n",
              "      <div>\n",
              "<style scoped>\n",
              "    .dataframe tbody tr th:only-of-type {\n",
              "        vertical-align: middle;\n",
              "    }\n",
              "\n",
              "    .dataframe tbody tr th {\n",
              "        vertical-align: top;\n",
              "    }\n",
              "\n",
              "    .dataframe thead th {\n",
              "        text-align: right;\n",
              "    }\n",
              "</style>\n",
              "<table border=\"1\" class=\"dataframe\">\n",
              "  <thead>\n",
              "    <tr style=\"text-align: right;\">\n",
              "      <th></th>\n",
              "      <th>id</th>\n",
              "      <th>sentence</th>\n",
              "      <th>difficulty</th>\n",
              "    </tr>\n",
              "  </thead>\n",
              "  <tbody>\n",
              "    <tr>\n",
              "      <th>0</th>\n",
              "      <td>0</td>\n",
              "      <td>Les coûts kilométriques réels peuvent diverger...</td>\n",
              "      <td>C1</td>\n",
              "    </tr>\n",
              "  </tbody>\n",
              "</table>\n",
              "</div>\n",
              "      <button class=\"colab-df-convert\" onclick=\"convertToInteractive('df-02518b71-1109-4ac6-b1ce-3b0f85c7b94b')\"\n",
              "              title=\"Convert this dataframe to an interactive table.\"\n",
              "              style=\"display:none;\">\n",
              "        \n",
              "  <svg xmlns=\"http://www.w3.org/2000/svg\" height=\"24px\"viewBox=\"0 0 24 24\"\n",
              "       width=\"24px\">\n",
              "    <path d=\"M0 0h24v24H0V0z\" fill=\"none\"/>\n",
              "    <path d=\"M18.56 5.44l.94 2.06.94-2.06 2.06-.94-2.06-.94-.94-2.06-.94 2.06-2.06.94zm-11 1L8.5 8.5l.94-2.06 2.06-.94-2.06-.94L8.5 2.5l-.94 2.06-2.06.94zm10 10l.94 2.06.94-2.06 2.06-.94-2.06-.94-.94-2.06-.94 2.06-2.06.94z\"/><path d=\"M17.41 7.96l-1.37-1.37c-.4-.4-.92-.59-1.43-.59-.52 0-1.04.2-1.43.59L10.3 9.45l-7.72 7.72c-.78.78-.78 2.05 0 2.83L4 21.41c.39.39.9.59 1.41.59.51 0 1.02-.2 1.41-.59l7.78-7.78 2.81-2.81c.8-.78.8-2.07 0-2.86zM5.41 20L4 18.59l7.72-7.72 1.47 1.35L5.41 20z\"/>\n",
              "  </svg>\n",
              "      </button>\n",
              "      \n",
              "  <style>\n",
              "    .colab-df-container {\n",
              "      display:flex;\n",
              "      flex-wrap:wrap;\n",
              "      gap: 12px;\n",
              "    }\n",
              "\n",
              "    .colab-df-convert {\n",
              "      background-color: #E8F0FE;\n",
              "      border: none;\n",
              "      border-radius: 50%;\n",
              "      cursor: pointer;\n",
              "      display: none;\n",
              "      fill: #1967D2;\n",
              "      height: 32px;\n",
              "      padding: 0 0 0 0;\n",
              "      width: 32px;\n",
              "    }\n",
              "\n",
              "    .colab-df-convert:hover {\n",
              "      background-color: #E2EBFA;\n",
              "      box-shadow: 0px 1px 2px rgba(60, 64, 67, 0.3), 0px 1px 3px 1px rgba(60, 64, 67, 0.15);\n",
              "      fill: #174EA6;\n",
              "    }\n",
              "\n",
              "    [theme=dark] .colab-df-convert {\n",
              "      background-color: #3B4455;\n",
              "      fill: #D2E3FC;\n",
              "    }\n",
              "\n",
              "    [theme=dark] .colab-df-convert:hover {\n",
              "      background-color: #434B5C;\n",
              "      box-shadow: 0px 1px 3px 1px rgba(0, 0, 0, 0.15);\n",
              "      filter: drop-shadow(0px 1px 2px rgba(0, 0, 0, 0.3));\n",
              "      fill: #FFFFFF;\n",
              "    }\n",
              "  </style>\n",
              "\n",
              "      <script>\n",
              "        const buttonEl =\n",
              "          document.querySelector('#df-02518b71-1109-4ac6-b1ce-3b0f85c7b94b button.colab-df-convert');\n",
              "        buttonEl.style.display =\n",
              "          google.colab.kernel.accessAllowed ? 'block' : 'none';\n",
              "\n",
              "        async function convertToInteractive(key) {\n",
              "          const element = document.querySelector('#df-02518b71-1109-4ac6-b1ce-3b0f85c7b94b');\n",
              "          const dataTable =\n",
              "            await google.colab.kernel.invokeFunction('convertToInteractive',\n",
              "                                                     [key], {});\n",
              "          if (!dataTable) return;\n",
              "\n",
              "          const docLinkHtml = 'Like what you see? Visit the ' +\n",
              "            '<a target=\"_blank\" href=https://colab.research.google.com/notebooks/data_table.ipynb>data table notebook</a>'\n",
              "            + ' to learn more about interactive tables.';\n",
              "          element.innerHTML = '';\n",
              "          dataTable['output_type'] = 'display_data';\n",
              "          await google.colab.output.renderOutput(dataTable, element);\n",
              "          const docLink = document.createElement('div');\n",
              "          docLink.innerHTML = docLinkHtml;\n",
              "          element.appendChild(docLink);\n",
              "        }\n",
              "      </script>\n",
              "    </div>\n",
              "  </div>\n",
              "  "
            ]
          },
          "metadata": {},
          "execution_count": 7
        }
      ],
      "source": [
        "df_training.head(1)"
      ]
    },
    {
      "cell_type": "code",
      "execution_count": 6,
      "metadata": {
        "id": "bLdAJREH7YqM"
      },
      "outputs": [],
      "source": [
        "#2\n",
        "\n",
        "unlabelled_test_data= 'https://raw.githubusercontent.com/mireille07/UNIL_Lausanne/main/Data/unlabelled_test_data.csv'\n",
        "\n",
        "df_pred = pd.read_csv(unlabelled_test_data, encoding='utf-8')"
      ]
    },
    {
      "cell_type": "code",
      "execution_count": 7,
      "metadata": {
        "id": "cs65T0Ky7cup"
      },
      "outputs": [],
      "source": [
        "#3\n",
        "\n",
        "sample_submission = ('https://raw.githubusercontent.com/mireille07/UNIL_Lausanne/main/Data/sample_submission.csv')\n",
        "\n",
        "df_pred = pd.read_csv(sample_submission, encoding='utf-8')\n"
      ]
    },
    {
      "cell_type": "markdown",
      "metadata": {
        "id": "mtZ78iJuye42"
      },
      "source": [
        "#Part 1 : Models without Cleaning \n",
        "-------------------------------------------------"
      ]
    },
    {
      "cell_type": "markdown",
      "source": [
        "-----------------------------------"
      ],
      "metadata": {
        "id": "IGeKGimqik-g"
      }
    },
    {
      "cell_type": "code",
      "execution_count": 10,
      "metadata": {
        "id": "yZ0YP3U9yenk"
      },
      "outputs": [],
      "source": [
        "df_1= df_training.copy()"
      ]
    },
    {
      "cell_type": "code",
      "source": [
        "result = [] # This list will hold all the results that we wwill get from our trained models without cleaning data\n",
        "\n",
        "result_c = [] # With cleaned data\n",
        "\n",
        "\n"
      ],
      "metadata": {
        "id": "nAkNZaBTb0-F"
      },
      "execution_count": 8,
      "outputs": []
    },
    {
      "cell_type": "code",
      "execution_count": 11,
      "metadata": {
        "id": "MHhFQMOMy1M5",
        "colab": {
          "base_uri": "https://localhost:8080/"
        },
        "outputId": "2bc45685-23a1-424b-ebe5-f823f1ed30b0"
      },
      "outputs": [
        {
          "output_type": "stream",
          "name": "stdout",
          "text": [
            "Base rate:\n",
            "0.1694\n"
          ]
        }
      ],
      "source": [
        "#BaseRate\n",
        "\n",
        "base_rate = np.max(df_1.difficulty.value_counts()/df_1.difficulty.shape[0]) \n",
        "# Good if the base rate is arount 0.5\n",
        "print(f\"Base rate:\\n{base_rate:.4f}\")"
      ]
    },
    {
      "cell_type": "code",
      "source": [
        "df_1['difficulty'].value_counts()"
      ],
      "metadata": {
        "colab": {
          "base_uri": "https://localhost:8080/"
        },
        "id": "vMCKoq8kMeI6",
        "outputId": "532fe9bd-7e9f-48e0-e723-242debb01ae2"
      },
      "execution_count": null,
      "outputs": [
        {
          "output_type": "execute_result",
          "data": {
            "text/plain": [
              "A1    813\n",
              "C2    807\n",
              "C1    798\n",
              "B1    795\n",
              "A2    795\n",
              "B2    792\n",
              "Name: difficulty, dtype: int64"
            ]
          },
          "metadata": {},
          "execution_count": 15
        }
      ]
    },
    {
      "cell_type": "code",
      "source": [
        "\n",
        "plt.figure(figsize=(11,7))\n",
        "sns.countplot(x=df_1.difficulty, palette = \"Set2\")\n",
        "plt.show()"
      ],
      "metadata": {
        "colab": {
          "base_uri": "https://localhost:8080/",
          "height": 442
        },
        "id": "2KFmGL8BNCCF",
        "outputId": "d72c94f2-07aa-452a-ca57-f03502a8f9e1"
      },
      "execution_count": 12,
      "outputs": [
        {
          "output_type": "display_data",
          "data": {
            "text/plain": [
              "<Figure size 792x504 with 1 Axes>"
            ],
            "image/png": "[encoded data removed]"
          },
          "metadata": {
            "needs_background": "light"
          }
        }
      ]
    },
    {
      "cell_type": "markdown",
      "metadata": {
        "id": "ZA3MRvxv8uBp"
      },
      "source": [
        " ### Use OrdinalEncoder to encode the \"difficulty column\"#"
      ]
    },
    {
      "cell_type": "code",
      "execution_count": null,
      "metadata": {
        "id": "xUVuGama9ERH",
        "colab": {
          "base_uri": "https://localhost:8080/"
        },
        "outputId": "b5bee46d-9ffc-4a42-e8df-89489d7d9d5e"
      },
      "outputs": [
        {
          "output_type": "execute_result",
          "data": {
            "text/plain": [
              "0       C1\n",
              "1       A1\n",
              "2       A1\n",
              "3       A1\n",
              "4       B1\n",
              "        ..\n",
              "4795    B2\n",
              "4796    C1\n",
              "4797    A2\n",
              "4798    C2\n",
              "4799    C2\n",
              "Name: difficulty, Length: 4800, dtype: object"
            ]
          },
          "metadata": {},
          "execution_count": 21
        }
      ],
      "source": [
        "df_1['difficulty']"
      ]
    },
    {
      "cell_type": "markdown",
      "metadata": {
        "id": "f4InZI_kCsHT"
      },
      "source": [
        "#Functions#"
      ]
    },
    {
      "cell_type": "code",
      "source": [
        "%%writefile ourfunctions.py\n",
        "\n",
        "#Evaluate fonction\n",
        "\n",
        "def evaluate(true, pred):\n",
        "      precision = precision_score(true, pred, pos_label='positive', average='macro')\n",
        "      recall = recall_score(true, pred, pos_label='positive', average='macro')\n",
        "      f1 = f1_score(true, pred, pos_label='positive', average='macro')\n",
        "      print(f\"CONFUSION MATRIX:\\n{confusion_matrix(true, pred)}\")\n",
        "      print(f\"ACCURACY SCORE:\\n{accuracy_score(true, pred):.4f}\")\n",
        "      print(f\"CLASSIFICATION REPORT:\\n\\tPrecision: {precision:.4f}\\n\\tRecall: {recall:.4f}\\n\\tF1_Score: {f1:.4f}\")\n",
        "      print(f\"Accuracy:\\n{accuracy_score(y_test, pred)}\")\n",
        "\n",
        "\n",
        "#Fucntion to get the scores and add them to a liste of scores for final comparaison\n",
        "def get_score(true, pred, classifier_name):\n",
        "    \n",
        "      precision = precision_score(true, pred, average= 'macro')\n",
        "      recall = recall_score(true, pred, average = 'macro')\n",
        "      f1 = f1_score(true, pred, average = 'macro')\n",
        "      accuracy = accuracy_score(true, pred)\n",
        "      cf = confusion_matrix(true, pred)\n",
        "      a, b = [classifier_name, precision, recall, f1, accuracy], cf\n",
        "      \n",
        "      return a, b \n",
        "\n",
        "\n",
        "# Cleaning Function\n",
        "\n",
        "def cleaning(sentence) :\n",
        "\n",
        "  # Lower sentence (no removing stopWords without)  \n",
        "  sentence=[item.lower() for item in sentence] \n",
        "\n",
        "  # Remove Punctuation \n",
        "  sentence = re.sub(r\"[^\\w\\s\\d]\",\"\", str(sentence))\n",
        "\n",
        "  # Remove stopwords   We decided not to remove stop_word anymore because we notice that there are some short sentences  \n",
        "    #stop_words = stopwords.words('french')\n",
        "    #sentence = sentence.split()\n",
        "    #sentence = \" \".join([word for word in sentence if not word in stop_words])\n",
        "\n"
      ],
      "metadata": {
        "colab": {
          "base_uri": "https://localhost:8080/"
        },
        "id": "p_cRQpw7Gfkf",
        "outputId": "a1fae622-7923-408a-c825-82c9b8a1cc36"
      },
      "execution_count": 13,
      "outputs": [
        {
          "output_type": "stream",
          "name": "stdout",
          "text": [
            "Overwriting ourfunctions.py\n"
          ]
        }
      ]
    },
    {
      "cell_type": "code",
      "execution_count": 14,
      "metadata": {
        "id": "LIG9WAzwCuyN"
      },
      "outputs": [],
      "source": [
        "#Evaluate fonction\n",
        "\n",
        "def evaluate(true, pred):\n",
        "      precision = precision_score(true, pred, pos_label='positive', average='macro')\n",
        "      recall = recall_score(true, pred, pos_label='positive', average='macro')\n",
        "      f1 = f1_score(true, pred, pos_label='positive', average='macro')\n",
        "      print(f\"CONFUSION MATRIX:\\n{confusion_matrix(true, pred)}\")\n",
        "      print(f\"ACCURACY SCORE:\\n{accuracy_score(true, pred):.4f}\")\n",
        "      print(f\"CLASSIFICATION REPORT:\\n\\tPrecision: {precision:.4f}\\n\\tRecall: {recall:.4f}\\n\\tF1_Score: {f1:.4f}\")\n",
        "      \n",
        "\n",
        "\n",
        "#Fucntion to get the scores and add them to a liste of scores for final comparaison\n",
        "def get_score(true, pred, classifier_name):\n",
        "    \n",
        "      precision = precision_score(true, pred, average= 'macro')\n",
        "      recall = recall_score(true, pred, average = 'macro')\n",
        "      f1 = f1_score(true, pred, average = 'macro')\n",
        "      accuracy = accuracy_score(true, pred)\n",
        "      cf = confusion_matrix(true, pred)\n",
        "      #cf = sns.heatmap(pd.DataFrame(confusion_matrix(y_test, pred_lr)), annot=True, cmap=plt.cm.Blues, fmt='.4g')\n",
        "      a, b = [classifier_name, precision, recall, f1, accuracy], cf\n",
        "      \n",
        "      return a, b \n",
        "\n",
        "\n",
        "# Cleaning Function\n",
        "\n",
        "def cleaning(sentence) :\n",
        "\n",
        "  # Lower sentence (no removing stopWords without)  \n",
        "  sentence=[item.lower() for item in sentence] \n",
        "\n",
        "  # Remove Punctuation \n",
        "  sentence = re.sub(r\"[^\\w\\s\\d]\",\"\", str(sentence))\n",
        "\n",
        "  # Remove stopwords   We decided not to remove stop_word anymore because we notice that there are some short sentences  \n",
        "    #stop_words = stopwords.words('french')\n",
        "    #sentence = sentence.split()\n",
        "    #sentence = \" \".join([word for word in sentence if not word in stop_words])\n",
        "\n",
        "\n",
        "\n",
        "  #Tokenization and white space removing\n",
        "  sentence= word_tokenize(sentence)\n",
        "  sentence= [item.lower().strip() for item in sentence]\n",
        "\n",
        "\n",
        "\n",
        "  # Lemmatization\n",
        "\n",
        "  lemma = WordNetLemmatizer()\n",
        "  sentence = [lemma.lemmatize(word) for word in sentence]\n",
        "\n",
        "  return sentence\n",
        "\n",
        "#     \n",
        "\n"
      ]
    },
    {
      "cell_type": "markdown",
      "source": [
        "#Split Data#"
      ],
      "metadata": {
        "id": "GyK7dppJd0AX"
      }
    },
    {
      "cell_type": "code",
      "execution_count": 23,
      "metadata": {
        "id": "Wbb0AmAVfq-R"
      },
      "outputs": [],
      "source": [
        "X = df_1['sentence']\n",
        "y = df_1['difficulty']\n",
        "\n",
        "# Train test split\n",
        "X_train, X_test, y_train, y_test = train_test_split(X, \n",
        "                                                    y, \n",
        "                                                    test_size=0.2, \n",
        "                                                    random_state=0, \n",
        "                                                    stratify=y)"
      ]
    },
    {
      "cell_type": "code",
      "execution_count": 24,
      "metadata": {
        "id": "qnpW8FX50hFf"
      },
      "outputs": [],
      "source": [
        "# Tfidf\n",
        "vectorizer = TfidfVectorizer(sublinear_tf= True, \n",
        "                       min_df = 1, \n",
        "                       norm= 'l2', \n",
        "                       ngram_range= (1,1),\n",
        "                       tokenizer=word_tokenize)\n",
        "\n"
      ]
    },
    {
      "cell_type": "markdown",
      "source": [
        "##PCA\n",
        "----------------------------------------"
      ],
      "metadata": {
        "id": "QiW6DIHicl5S"
      }
    },
    {
      "cell_type": "code",
      "source": [
        "#PCA\n",
        "# We nee to transform the features, before apply PCA on it\n",
        "X_train_vec = vectorizer.fit_transform(X_train).toarray()\n",
        "X_test_vec = vectorizer.transform(X_test).toarray()\n",
        "\n",
        "# Then, we scale the data\n",
        "scaler = MinMaxScaler()\n",
        "X_train_vec = scaler.fit_transform(X_train_vec)\n",
        "X_test_vec = scaler.transform(X_test_vec)\n",
        "\n",
        "# Define PCA (we want 95% of explained variance)\n",
        "pca = PCA(n_components=0.95)\n",
        "\n",
        "# Example on X_train_vec\n",
        "X_train_vec_pca = pca.fit_transform(X_train_vec)\n",
        "X_test_vec_pca = pca.transform(X_test_vec)"
      ],
      "metadata": {
        "id": "qQcx6kr7cK_m"
      },
      "execution_count": 25,
      "outputs": []
    },
    {
      "cell_type": "markdown",
      "source": [
        "#1- Logistic regression\n",
        "    (Without data cleaning)"
      ],
      "metadata": {
        "id": "vJuppOkYzRPM"
      }
    },
    {
      "cell_type": "code",
      "execution_count": 30,
      "metadata": {
        "id": "kvakm7qff-rD",
        "colab": {
          "base_uri": "https://localhost:8080/",
          "height": 741
        },
        "outputId": "bf9d284d-9787-4983-8cbc-b9308de1d075"
      },
      "outputs": [
        {
          "output_type": "stream",
          "name": "stderr",
          "text": [
            "/usr/local/lib/python3.8/dist-packages/sklearn/metrics/_classification.py:1370: UserWarning: Note that pos_label (set to 'positive') is ignored when average != 'binary' (got 'macro'). You may use labels=[pos_label] to specify a single positive class.\n",
            "  warnings.warn(\n",
            "/usr/local/lib/python3.8/dist-packages/sklearn/metrics/_classification.py:1370: UserWarning: Note that pos_label (set to 'positive') is ignored when average != 'binary' (got 'macro'). You may use labels=[pos_label] to specify a single positive class.\n",
            "  warnings.warn(\n",
            "/usr/local/lib/python3.8/dist-packages/sklearn/metrics/_classification.py:1370: UserWarning: Note that pos_label (set to 'positive') is ignored when average != 'binary' (got 'macro'). You may use labels=[pos_label] to specify a single positive class.\n",
            "  warnings.warn(\n"
          ]
        },
        {
          "output_type": "stream",
          "name": "stdout",
          "text": [
            "CONFUSION MATRIX:\n",
            "[[107  31  20   2   2   1]\n",
            " [ 32  68  43   6   4   6]\n",
            " [ 18  42  61  17  11  10]\n",
            " [  7   9  17  66  27  32]\n",
            " [  4   4  16  31  70  35]\n",
            " [ 11   4  12  17  27  90]]\n",
            "ACCURACY SCORE:\n",
            "0.4813\n",
            "CLASSIFICATION REPORT:\n",
            "\tPrecision: 0.4796\n",
            "\tRecall: 0.4803\n",
            "\tF1_Score: 0.4789\n"
          ]
        },
        {
          "output_type": "execute_result",
          "data": {
            "text/plain": [
              "<matplotlib.axes._subplots.AxesSubplot at 0x7fd2a02dce20>"
            ]
          },
          "metadata": {},
          "execution_count": 30
        },
        {
          "output_type": "display_data",
          "data": {
            "text/plain": [
              "<Figure size 576x432 with 2 Axes>"
            ],
            "image/png": "[encoded data removed]"
          },
          "metadata": {
            "needs_background": "light"
          }
        }
      ],
      "source": [
        "#Logistic Regression\n",
        "pipe = LogisticRegression(max_iter=10_000,\n",
        "                          penalty='l2',\n",
        "                          solver='lbfgs')\n",
        "\n",
        "pipe.fit(X_train_vec_pca , y_train)\n",
        "\n",
        "pred_lr = pipe.predict(X_test_vec_pca)\n",
        "evaluate(y_test, pred_lr)\n",
        "\n",
        "#\n",
        "score, matrix = get_score(y_test, pred_lr, \"Logisitc Regression\")\n",
        "result.append(score)\n",
        "\n",
        "\n",
        "plt.figure(figsize=(8,6))\n",
        "sns.heatmap(pd.DataFrame(confusion_matrix(y_test, pred_lr)), annot=True, cmap=plt.cm.Blues, fmt='.4g')\n",
        "\n",
        "\n",
        "\n"
      ]
    },
    {
      "cell_type": "markdown",
      "source": [
        "#Wrongly Predicted Sentences#"
      ],
      "metadata": {
        "id": "DUOxb3pRBPkc"
      }
    },
    {
      "cell_type": "code",
      "source": [
        "# sentences that are missclassified ? \n",
        "misc_sent = np.array(X_test)\n",
        "test_array = np.array(y_test)\n",
        "pred_array = np.array(pred_lr)\n",
        "wrong_pred = list()\n",
        "for i in range(0, 100):\n",
        "  if pred_array[i] != test_array[i]:\n",
        "     wrong_pred.append([misc_sent[i], test_array[i], pred_array[i]])\n",
        "wrong_pred[:5]\n"
      ],
      "metadata": {
        "colab": {
          "base_uri": "https://localhost:8080/"
        },
        "id": "WMF8ZyoqBVEM",
        "outputId": "c1e61b6c-5378-47ef-8cdf-9be9fc8b7db0"
      },
      "execution_count": null,
      "outputs": [
        {
          "output_type": "execute_result",
          "data": {
            "text/plain": [
              "[[\"C'est en décembre 1967, après bien des invectives au Parlement, que sa loi relative à la régulation des naissances, dite loi Neuwirth est votée : elle autorise la vente exclusive des contraceptifs en pharmacie sur ordonnance médicale, avec autorisation parentale pour les mineures\",\n",
              "  'C1',\n",
              "  'C2'],\n",
              " ['Giscard va pourtant réussir à transformer ce revers en tremplin',\n",
              "  'C1',\n",
              "  'A2'],\n",
              " [\"Un choix difficile mais important : le public français écoute souvent les professionnels de Cannes pour choisir le film qu'il va aller voir au cinéma.\",\n",
              "  'A2',\n",
              "  'B1'],\n",
              " [\"Le débat porte plutôt sur l'utilité d'une telle mesure.\", 'B1', 'B2'],\n",
              " [\"Il faut du temps et du courage pour soigner toute cette ménagerie En plus des animaux, il faut aussi s'occuper du potager de mon papy\",\n",
              "  'A2',\n",
              "  'B1']]"
            ]
          },
          "metadata": {},
          "execution_count": 31
        }
      ]
    },
    {
      "cell_type": "code",
      "source": [
        "#Misclassified sentences count \n",
        "Count = len(wrong_pred)\n",
        "\n",
        "Count"
      ],
      "metadata": {
        "colab": {
          "base_uri": "https://localhost:8080/"
        },
        "id": "j4Pfcn51B7ba",
        "outputId": "2ed1f7fe-9ac9-481a-ee6d-233bf5245205"
      },
      "execution_count": null,
      "outputs": [
        {
          "output_type": "execute_result",
          "data": {
            "text/plain": [
              "51"
            ]
          },
          "metadata": {},
          "execution_count": 92
        }
      ]
    },
    {
      "cell_type": "markdown",
      "source": [
        "#2- KNN \n",
        "    (Without data cleaning)"
      ],
      "metadata": {
        "id": "7x_p4CdczbuL"
      }
    },
    {
      "cell_type": "code",
      "execution_count": null,
      "metadata": {
        "id": "W0zsRoWAhpF5",
        "colab": {
          "base_uri": "https://localhost:8080/"
        },
        "outputId": "ef5993e3-1f62-4244-c231-0be729697071"
      },
      "outputs": [
        {
          "output_type": "stream",
          "name": "stderr",
          "text": [
            "/usr/local/lib/python3.8/dist-packages/sklearn/metrics/_classification.py:1370: UserWarning: Note that pos_label (set to 'positive') is ignored when average != 'binary' (got 'macro'). You may use labels=[pos_label] to specify a single positive class.\n",
            "  warnings.warn(\n",
            "/usr/local/lib/python3.8/dist-packages/sklearn/metrics/_classification.py:1318: UndefinedMetricWarning: Precision is ill-defined and being set to 0.0 in labels with no predicted samples. Use `zero_division` parameter to control this behavior.\n",
            "  _warn_prf(average, modifier, msg_start, len(result))\n",
            "/usr/local/lib/python3.8/dist-packages/sklearn/metrics/_classification.py:1370: UserWarning: Note that pos_label (set to 'positive') is ignored when average != 'binary' (got 'macro'). You may use labels=[pos_label] to specify a single positive class.\n",
            "  warnings.warn(\n",
            "/usr/local/lib/python3.8/dist-packages/sklearn/metrics/_classification.py:1370: UserWarning: Note that pos_label (set to 'positive') is ignored when average != 'binary' (got 'macro'). You may use labels=[pos_label] to specify a single positive class.\n",
            "  warnings.warn(\n"
          ]
        },
        {
          "output_type": "stream",
          "name": "stdout",
          "text": [
            "CONFUSION MATRIX:\n",
            "[[131  17   1  14   0   0]\n",
            " [105  31   3  20   0   0]\n",
            " [105  27   2  25   0   0]\n",
            " [ 75  24   1  57   0   1]\n",
            " [ 68  21   0  71   0   0]\n",
            " [ 80  20   0  60   0   1]]\n",
            "ACCURACY SCORE:\n",
            "0.2313\n",
            "CLASSIFICATION REPORT:\n",
            "\tPrecision: 0.2450\n",
            "\tRecall: 0.2297\n",
            "\tF1_Score: 0.1476\n"
          ]
        }
      ],
      "source": [
        "\n",
        "#KNN \n",
        "\n",
        "pipe_k = KNeighborsClassifier()\n",
        "\n",
        "pipe_k.fit(X_train_vec_pca, y_train)\n",
        "pred_k = pipe_k.predict(X_test_vec_pca)\n",
        "evaluate(y_test, pred_k)\n",
        "\n",
        "## result : 0.3187\n",
        "# improvement : 0.3542\n",
        "\n",
        "\n",
        "#Improve : The best param has been choosed by hand since \n",
        "\n",
        "knn_grid = {'n_neighbors' : np.arange(1,500,5),\n",
        "            'p': np.arange(1,3),\n",
        "            'weights' : ['uniform', 'distance']}\n",
        "\n",
        "KNN = KNeighborsClassifier()\n",
        "pipe_k = GridSearchCV(KNN, knn_grid, cv = 5)\n",
        "\n",
        "\n",
        "pipe_k.fit(X_train_vec_pca, y_train)\n",
        "#print('Best hyperparameters:', KNN_CV.best_params_)\n",
        "pred_k = pipe_k.predict(X_test_vec_pca)\n",
        "evaluate(y_test, pred_k)\n",
        "\n",
        "#\n",
        "score, matrix = get_score(y_test, pred_k, \"KNN Model\")\n",
        "result.append(score)\n",
        "\n",
        "# Plot\n",
        "plt.figure(figsize=(8,6))\n",
        "sns.heatmap(pd.DataFrame(confusion_matrix(y_test, pred_k)), annot=True, cmap = \"OrRd_r\", fmt='.4g')\n",
        "\n",
        "\n",
        "\n"
      ]
    },
    {
      "cell_type": "markdown",
      "source": [
        "#3- Decision Tree\n",
        "    (Without data cleaning)"
      ],
      "metadata": {
        "id": "VE1KQwSMzkIr"
      }
    },
    {
      "cell_type": "code",
      "source": [
        "#Decision tree\n",
        "\n",
        "\n",
        "pipe_dt = DecisionTreeClassifier()\n",
        "pipe_dt.fit(X_train_vec_pca, y_train)\n",
        "\n",
        "pred_dt = pipe_dt.predict(X_test_vec_pca)\n",
        "evaluate(y_test, pred_dt)\n",
        "\n",
        "#\n",
        "score, matrix = get_score(y_test, pred_dt, \"Decision Tree\")\n",
        "result.append(score)\n",
        "\n",
        "# Plot\n",
        "plt.figure(figsize=(8,6))\n",
        "sns.heatmap(pd.DataFrame(confusion_matrix(y_test, pred_dt)), annot=True, cmap = \"Greens_r\", fmt='.4g')\n"
      ],
      "metadata": {
        "colab": {
          "base_uri": "https://localhost:8080/",
          "height": 776
        },
        "id": "x-2LyV1EX6S8",
        "outputId": "25721c1a-e90e-41d4-d852-70fadad7ea3a"
      },
      "execution_count": null,
      "outputs": [
        {
          "output_type": "stream",
          "name": "stdout",
          "text": [
            "CONFUSION MATRIX:\n",
            "[[83 32 26 12  3  5]\n",
            " [50 51 34 20  4  5]\n",
            " [28 40 35 25 16 16]\n",
            " [ 9 17 35 38 25 20]\n",
            " [11 21 34 34 40 33]\n",
            " [15 14 26 33 34 36]]\n",
            "ACCURACY SCORE:\n",
            "0.2948\n",
            "CLASSIFICATION REPORT:\n",
            "\tPrecision: 0.2958\n",
            "\tRecall: 0.2947\n",
            "\tF1_Score: 0.2915\n",
            "Accuracy:\n",
            "0.2947916666666667\n"
          ]
        },
        {
          "output_type": "stream",
          "name": "stderr",
          "text": [
            "/usr/local/lib/python3.8/dist-packages/sklearn/metrics/_classification.py:1370: UserWarning: Note that pos_label (set to 'positive') is ignored when average != 'binary' (got 'macro'). You may use labels=[pos_label] to specify a single positive class.\n",
            "  warnings.warn(\n",
            "/usr/local/lib/python3.8/dist-packages/sklearn/metrics/_classification.py:1370: UserWarning: Note that pos_label (set to 'positive') is ignored when average != 'binary' (got 'macro'). You may use labels=[pos_label] to specify a single positive class.\n",
            "  warnings.warn(\n",
            "/usr/local/lib/python3.8/dist-packages/sklearn/metrics/_classification.py:1370: UserWarning: Note that pos_label (set to 'positive') is ignored when average != 'binary' (got 'macro'). You may use labels=[pos_label] to specify a single positive class.\n",
            "  warnings.warn(\n"
          ]
        },
        {
          "output_type": "execute_result",
          "data": {
            "text/plain": [
              "<matplotlib.axes._subplots.AxesSubplot at 0x7fcf5a2b0310>"
            ]
          },
          "metadata": {},
          "execution_count": 33
        },
        {
          "output_type": "display_data",
          "data": {
            "text/plain": [
              "<Figure size 576x432 with 2 Axes>"
            ],
            "image/png": "[encoded data removed]"
          },
          "metadata": {
            "needs_background": "light"
          }
        }
      ]
    },
    {
      "cell_type": "code",
      "source": [
        "# Decision tree Improvement\n",
        "grid_tree = {'max_depth': np.arange(5,1000, 50)}\n",
        "\n",
        "dec_tree = DecisionTreeClassifier()\n",
        "pipe_dt2 = GridSearchCV(dec_tree, grid_tree, cv = 5)\n",
        "\n",
        "\n",
        "pipe_dt2.fit(X_train_vec_pca, y_train)\n",
        "pred = pipe_dt2.predict(X_test_vec_pca)\n",
        "print(\"Hyperparameters:\", dec_tree_CV.best_params_)\n",
        "evaluate(y_test, pred)\n",
        "#\n",
        "score, matrix = get_score(y_test, pred, \"Decision tree Improvement\")\n",
        "result.append(score)\n",
        "# Plot\n",
        "plt.figure(figsize=(8,6))\n",
        "sns.heatmap(pd.DataFrame(confusion_matrix(y_test, pred_dt)), annot=True, cmap = \"Greens\", fmt='.4g')\n",
        "\n",
        "#Without pca : ACCURACY SCORE:\n",
        "#0.3052\n"
      ],
      "metadata": {
        "colab": {
          "base_uri": "https://localhost:8080/",
          "height": 793
        },
        "id": "YP2KOihrYIwM",
        "outputId": "aca93f29-2052-4be1-89df-5d5a70f6bb36"
      },
      "execution_count": null,
      "outputs": [
        {
          "output_type": "stream",
          "name": "stdout",
          "text": [
            "Hyperparameters: {'max_depth': 355}\n",
            "CONFUSION MATRIX:\n",
            "[[83 36 25  9  3  5]\n",
            " [50 58 31 14  3  8]\n",
            " [29 43 39 19 18 12]\n",
            " [11 18 31 40 23 21]\n",
            " [13 18 32 38 35 37]\n",
            " [13 12 30 29 36 38]]\n",
            "ACCURACY SCORE:\n",
            "0.3052\n",
            "CLASSIFICATION REPORT:\n",
            "\tPrecision: 0.3029\n",
            "\tRecall: 0.3056\n",
            "\tF1_Score: 0.3006\n",
            "Accuracy:\n",
            "0.30520833333333336\n"
          ]
        },
        {
          "output_type": "stream",
          "name": "stderr",
          "text": [
            "/usr/local/lib/python3.8/dist-packages/sklearn/metrics/_classification.py:1370: UserWarning: Note that pos_label (set to 'positive') is ignored when average != 'binary' (got 'macro'). You may use labels=[pos_label] to specify a single positive class.\n",
            "  warnings.warn(\n",
            "/usr/local/lib/python3.8/dist-packages/sklearn/metrics/_classification.py:1370: UserWarning: Note that pos_label (set to 'positive') is ignored when average != 'binary' (got 'macro'). You may use labels=[pos_label] to specify a single positive class.\n",
            "  warnings.warn(\n",
            "/usr/local/lib/python3.8/dist-packages/sklearn/metrics/_classification.py:1370: UserWarning: Note that pos_label (set to 'positive') is ignored when average != 'binary' (got 'macro'). You may use labels=[pos_label] to specify a single positive class.\n",
            "  warnings.warn(\n"
          ]
        },
        {
          "output_type": "execute_result",
          "data": {
            "text/plain": [
              "<matplotlib.axes._subplots.AxesSubplot at 0x7fcf59eedcd0>"
            ]
          },
          "metadata": {},
          "execution_count": 34
        },
        {
          "output_type": "display_data",
          "data": {
            "text/plain": [
              "<Figure size 576x432 with 2 Axes>"
            ],
            "image/png": "[encoded data removed]"
          },
          "metadata": {
            "needs_background": "light"
          }
        }
      ]
    },
    {
      "cell_type": "markdown",
      "source": [
        "# 4- Random Forest\n",
        "    (Without data cleaning)"
      ],
      "metadata": {
        "id": "rlJsjPS6zzv9"
      }
    },
    {
      "cell_type": "code",
      "execution_count": null,
      "metadata": {
        "id": "WFtYgs4PiuAv",
        "colab": {
          "base_uri": "https://localhost:8080/",
          "height": 776
        },
        "outputId": "dec615f0-64a3-42eb-a43d-8dc85c26b003"
      },
      "outputs": [
        {
          "output_type": "stream",
          "name": "stdout",
          "text": [
            "CONFUSION MATRIX:\n",
            "[[118  21  15   6   1   0]\n",
            " [ 75  53  24   9   2   1]\n",
            " [ 37  38  44  26   8   7]\n",
            " [ 18  10  17  69  17  13]\n",
            " [ 16   6  22  55  50  24]\n",
            " [ 16  11  14  31  27  59]]\n",
            "ACCURACY SCORE:\n",
            "0.4094\n",
            "CLASSIFICATION REPORT:\n",
            "\tPrecision: 0.4203\n",
            "\tRecall: 0.4121\n",
            "\tF1_Score: 0.3997\n",
            "Accuracy:\n",
            "0.409375\n"
          ]
        },
        {
          "output_type": "stream",
          "name": "stderr",
          "text": [
            "/usr/local/lib/python3.8/dist-packages/sklearn/metrics/_classification.py:1370: UserWarning: Note that pos_label (set to 'positive') is ignored when average != 'binary' (got 'macro'). You may use labels=[pos_label] to specify a single positive class.\n",
            "  warnings.warn(\n",
            "/usr/local/lib/python3.8/dist-packages/sklearn/metrics/_classification.py:1370: UserWarning: Note that pos_label (set to 'positive') is ignored when average != 'binary' (got 'macro'). You may use labels=[pos_label] to specify a single positive class.\n",
            "  warnings.warn(\n",
            "/usr/local/lib/python3.8/dist-packages/sklearn/metrics/_classification.py:1370: UserWarning: Note that pos_label (set to 'positive') is ignored when average != 'binary' (got 'macro'). You may use labels=[pos_label] to specify a single positive class.\n",
            "  warnings.warn(\n"
          ]
        },
        {
          "output_type": "execute_result",
          "data": {
            "text/plain": [
              "<matplotlib.axes._subplots.AxesSubplot at 0x7fcf5e8e4130>"
            ]
          },
          "metadata": {},
          "execution_count": 35
        },
        {
          "output_type": "display_data",
          "data": {
            "text/plain": [
              "<Figure size 576x432 with 2 Axes>"
            ],
            "image/png": "[encoded data removed]"
          },
          "metadata": {
            "needs_background": "light"
          }
        }
      ],
      "source": [
        "# Random Forest \n",
        "\n",
        "pipe_rf = RandomForestClassifier()\n",
        "pipe_rf.fit(X_train_vec_pca, y_train)\n",
        "pred_rf = pipe_rf.predict(X_test_vec_pca)\n",
        "evaluate(y_test, pred_rf)\n",
        "\n",
        "#\n",
        "score, matrix = get_score(y_test, pred_rf, \"Random Forest\")\n",
        "result.append(score)\n",
        "\n",
        "# Plot\n",
        "plt.figure(figsize=(8,6))\n",
        "sns.heatmap(pd.DataFrame(confusion_matrix(y_test, pred_dt)), annot=True, cmap = \"PuOr\", fmt='.4g')\n"
      ]
    },
    {
      "cell_type": "code",
      "source": [
        "results = pd.DataFrame(result, columns=[\"Model\", \"Precision\", \"Recall\", \"F1- score\", \"Accuracy\"])\n",
        "results=results.set_index('Model')\n",
        "results.head()"
      ],
      "metadata": {
        "id": "PpWoY8k1aBJq",
        "colab": {
          "base_uri": "https://localhost:8080/",
          "height": 238
        },
        "outputId": "02c16660-e9ae-401b-c292-0cfe8b656390"
      },
      "execution_count": null,
      "outputs": [
        {
          "output_type": "execute_result",
          "data": {
            "text/plain": [
              "                           Precision    Recall  F1- score  Accuracy\n",
              "Model                                                              \n",
              "Logisitc Regression         0.475666  0.479224   0.474447  0.478125\n",
              "Random Forest               0.416684  0.416253   0.401491  0.413542\n",
              "Decision tree Improvement   0.314862  0.315516   0.311864  0.315625\n",
              "Decision Tree               0.301306  0.300758   0.298111  0.301042\n",
              "KNN Model                   0.419700  0.354327   0.345031  0.354167"
            ],
            "text/html": [
              "\n",
              "  <div id=\"df-29662f67-fe57-4a7d-9260-9fe4cd6cfac4\">\n",
              "    <div class=\"colab-df-container\">\n",
              "      <div>\n",
              "<style scoped>\n",
              "    .dataframe tbody tr th:only-of-type {\n",
              "        vertical-align: middle;\n",
              "    }\n",
              "\n",
              "    .dataframe tbody tr th {\n",
              "        vertical-align: top;\n",
              "    }\n",
              "\n",
              "    .dataframe thead th {\n",
              "        text-align: right;\n",
              "    }\n",
              "</style>\n",
              "<table border=\"1\" class=\"dataframe\">\n",
              "  <thead>\n",
              "    <tr style=\"text-align: right;\">\n",
              "      <th></th>\n",
              "      <th>Precision</th>\n",
              "      <th>Recall</th>\n",
              "      <th>F1- score</th>\n",
              "      <th>Accuracy</th>\n",
              "    </tr>\n",
              "    <tr>\n",
              "      <th>Model</th>\n",
              "      <th></th>\n",
              "      <th></th>\n",
              "      <th></th>\n",
              "      <th></th>\n",
              "    </tr>\n",
              "  </thead>\n",
              "  <tbody>\n",
              "    <tr>\n",
              "      <th>Logisitc Regression</th>\n",
              "      <td>0.475666</td>\n",
              "      <td>0.479224</td>\n",
              "      <td>0.474447</td>\n",
              "      <td>0.478125</td>\n",
              "    </tr>\n",
              "    <tr>\n",
              "      <th>Random Forest</th>\n",
              "      <td>0.416684</td>\n",
              "      <td>0.416253</td>\n",
              "      <td>0.401491</td>\n",
              "      <td>0.413542</td>\n",
              "    </tr>\n",
              "    <tr>\n",
              "      <th>Decision tree Improvement</th>\n",
              "      <td>0.314862</td>\n",
              "      <td>0.315516</td>\n",
              "      <td>0.311864</td>\n",
              "      <td>0.315625</td>\n",
              "    </tr>\n",
              "    <tr>\n",
              "      <th>Decision Tree</th>\n",
              "      <td>0.301306</td>\n",
              "      <td>0.300758</td>\n",
              "      <td>0.298111</td>\n",
              "      <td>0.301042</td>\n",
              "    </tr>\n",
              "    <tr>\n",
              "      <th>KNN Model</th>\n",
              "      <td>0.419700</td>\n",
              "      <td>0.354327</td>\n",
              "      <td>0.345031</td>\n",
              "      <td>0.354167</td>\n",
              "    </tr>\n",
              "  </tbody>\n",
              "</table>\n",
              "</div>\n",
              "      <button class=\"colab-df-convert\" onclick=\"convertToInteractive('df-29662f67-fe57-4a7d-9260-9fe4cd6cfac4')\"\n",
              "              title=\"Convert this dataframe to an interactive table.\"\n",
              "              style=\"display:none;\">\n",
              "        \n",
              "  <svg xmlns=\"http://www.w3.org/2000/svg\" height=\"24px\"viewBox=\"0 0 24 24\"\n",
              "       width=\"24px\">\n",
              "    <path d=\"M0 0h24v24H0V0z\" fill=\"none\"/>\n",
              "    <path d=\"M18.56 5.44l.94 2.06.94-2.06 2.06-.94-2.06-.94-.94-2.06-.94 2.06-2.06.94zm-11 1L8.5 8.5l.94-2.06 2.06-.94-2.06-.94L8.5 2.5l-.94 2.06-2.06.94zm10 10l.94 2.06.94-2.06 2.06-.94-2.06-.94-.94-2.06-.94 2.06-2.06.94z\"/><path d=\"M17.41 7.96l-1.37-1.37c-.4-.4-.92-.59-1.43-.59-.52 0-1.04.2-1.43.59L10.3 9.45l-7.72 7.72c-.78.78-.78 2.05 0 2.83L4 21.41c.39.39.9.59 1.41.59.51 0 1.02-.2 1.41-.59l7.78-7.78 2.81-2.81c.8-.78.8-2.07 0-2.86zM5.41 20L4 18.59l7.72-7.72 1.47 1.35L5.41 20z\"/>\n",
              "  </svg>\n",
              "      </button>\n",
              "      \n",
              "  <style>\n",
              "    .colab-df-container {\n",
              "      display:flex;\n",
              "      flex-wrap:wrap;\n",
              "      gap: 12px;\n",
              "    }\n",
              "\n",
              "    .colab-df-convert {\n",
              "      background-color: #E8F0FE;\n",
              "      border: none;\n",
              "      border-radius: 50%;\n",
              "      cursor: pointer;\n",
              "      display: none;\n",
              "      fill: #1967D2;\n",
              "      height: 32px;\n",
              "      padding: 0 0 0 0;\n",
              "      width: 32px;\n",
              "    }\n",
              "\n",
              "    .colab-df-convert:hover {\n",
              "      background-color: #E2EBFA;\n",
              "      box-shadow: 0px 1px 2px rgba(60, 64, 67, 0.3), 0px 1px 3px 1px rgba(60, 64, 67, 0.15);\n",
              "      fill: #174EA6;\n",
              "    }\n",
              "\n",
              "    [theme=dark] .colab-df-convert {\n",
              "      background-color: #3B4455;\n",
              "      fill: #D2E3FC;\n",
              "    }\n",
              "\n",
              "    [theme=dark] .colab-df-convert:hover {\n",
              "      background-color: #434B5C;\n",
              "      box-shadow: 0px 1px 3px 1px rgba(0, 0, 0, 0.15);\n",
              "      filter: drop-shadow(0px 1px 2px rgba(0, 0, 0, 0.3));\n",
              "      fill: #FFFFFF;\n",
              "    }\n",
              "  </style>\n",
              "\n",
              "      <script>\n",
              "        const buttonEl =\n",
              "          document.querySelector('#df-29662f67-fe57-4a7d-9260-9fe4cd6cfac4 button.colab-df-convert');\n",
              "        buttonEl.style.display =\n",
              "          google.colab.kernel.accessAllowed ? 'block' : 'none';\n",
              "\n",
              "        async function convertToInteractive(key) {\n",
              "          const element = document.querySelector('#df-29662f67-fe57-4a7d-9260-9fe4cd6cfac4');\n",
              "          const dataTable =\n",
              "            await google.colab.kernel.invokeFunction('convertToInteractive',\n",
              "                                                     [key], {});\n",
              "          if (!dataTable) return;\n",
              "\n",
              "          const docLinkHtml = 'Like what you see? Visit the ' +\n",
              "            '<a target=\"_blank\" href=https://colab.research.google.com/notebooks/data_table.ipynb>data table notebook</a>'\n",
              "            + ' to learn more about interactive tables.';\n",
              "          element.innerHTML = '';\n",
              "          dataTable['output_type'] = 'display_data';\n",
              "          await google.colab.output.renderOutput(dataTable, element);\n",
              "          const docLink = document.createElement('div');\n",
              "          docLink.innerHTML = docLinkHtml;\n",
              "          element.appendChild(docLink);\n",
              "        }\n",
              "      </script>\n",
              "    </div>\n",
              "  </div>\n",
              "  "
            ]
          },
          "metadata": {},
          "execution_count": 67
        }
      ]
    },
    {
      "cell_type": "code",
      "source": [],
      "metadata": {
        "id": "ZAdqxl1TbPm1"
      },
      "execution_count": null,
      "outputs": []
    },
    {
      "cell_type": "code",
      "source": [],
      "metadata": {
        "id": "VYI6-vGlbPYS"
      },
      "execution_count": null,
      "outputs": []
    },
    {
      "cell_type": "markdown",
      "source": [
        "# _______________________________________ #"
      ],
      "metadata": {
        "id": "Is_VX6bx0X0C"
      }
    },
    {
      "cell_type": "markdown",
      "source": [
        "# _______________________________________ #"
      ],
      "metadata": {
        "id": "BLcWCCAKz_H9"
      }
    },
    {
      "cell_type": "code",
      "source": [],
      "metadata": {
        "id": "0NU9qaJebPG-"
      },
      "execution_count": null,
      "outputs": []
    },
    {
      "cell_type": "markdown",
      "source": [
        "#Model with data Cleaning\n",
        "-------------------------------------"
      ],
      "metadata": {
        "id": "1TjUZjeid7iS"
      }
    },
    {
      "cell_type": "markdown",
      "source": [
        "----------------"
      ],
      "metadata": {
        "id": "WSF69APY0FF7"
      }
    },
    {
      "cell_type": "markdown",
      "source": [
        "##Data Cleaning Process :##\n",
        "\n",
        "1. Remove Punctuation\n",
        "2. Tokenization\n",
        "3. Remove Stopwords\n",
        "4. Stemming / Lemmatization\n",
        "5. Vectorization"
      ],
      "metadata": {
        "id": "LnpmaIAuttGa"
      }
    },
    {
      "cell_type": "code",
      "execution_count": null,
      "metadata": {
        "id": "-BiEl1ONrUNH"
      },
      "outputs": [],
      "source": [
        "# Split Data\n",
        "corpus_c = df_1['sentence'].tolist()\n",
        "\n",
        "X_train, X_test, y_train, y_test = train_test_split(corpus_c, df_1['difficulty'].tolist(),\n",
        "                                                    test_size = 0.2,\n",
        "                                                    random_state = 0)\n"
      ]
    },
    {
      "cell_type": "code",
      "execution_count": null,
      "metadata": {
        "id": "5Y5VkdK9rUJE"
      },
      "outputs": [],
      "source": [
        "# Tfidf Vectorizer \n",
        "vectorizer_c = TfidfVectorizer(tokenizer=cleaning, \n",
        "                               ngram_range=(1, 6),\n",
        "                               analyzer='char',\n",
        "                               min_df=2,\n",
        "                               max_df=0.7,\n",
        "                               norm='l2')"
      ]
    },
    {
      "cell_type": "code",
      "source": [],
      "metadata": {
        "id": "coveIVLUrF0e"
      },
      "execution_count": null,
      "outputs": []
    },
    {
      "cell_type": "markdown",
      "source": [
        "# 5- Logistic Regression#\n",
        "\n",
        "    (With data cleaning)"
      ],
      "metadata": {
        "id": "RMaIP4w9ea7i"
      }
    },
    {
      "cell_type": "code",
      "execution_count": null,
      "metadata": {
        "id": "2SeeiDgxrUEn",
        "colab": {
          "base_uri": "https://localhost:8080/",
          "height": 776
        },
        "outputId": "709c409e-0426-48a8-a5c0-b54de806c6cb"
      },
      "outputs": [
        {
          "output_type": "stream",
          "name": "stdout",
          "text": [
            "CONFUSION MATRIX:\n",
            "[[109  27  18   4   3   0]\n",
            " [ 55  72  29   5   2   1]\n",
            " [ 16  31  80  19   9   5]\n",
            " [  5   8   7  66  25  33]\n",
            " [  4   3  10  41  67  48]\n",
            " [  6   5   7  25  26  89]]\n",
            "ACCURACY SCORE:\n",
            "0.5031\n",
            "CLASSIFICATION REPORT:\n",
            "\tPrecision: 0.5013\n",
            "\tRecall: 0.5042\n",
            "\tF1_Score: 0.4996\n",
            "Accuracy:\n",
            "0.503125\n"
          ]
        },
        {
          "output_type": "stream",
          "name": "stderr",
          "text": [
            "/usr/local/lib/python3.8/dist-packages/sklearn/metrics/_classification.py:1370: UserWarning: Note that pos_label (set to 'positive') is ignored when average != 'binary' (got 'macro'). You may use labels=[pos_label] to specify a single positive class.\n",
            "  warnings.warn(\n",
            "/usr/local/lib/python3.8/dist-packages/sklearn/metrics/_classification.py:1370: UserWarning: Note that pos_label (set to 'positive') is ignored when average != 'binary' (got 'macro'). You may use labels=[pos_label] to specify a single positive class.\n",
            "  warnings.warn(\n",
            "/usr/local/lib/python3.8/dist-packages/sklearn/metrics/_classification.py:1370: UserWarning: Note that pos_label (set to 'positive') is ignored when average != 'binary' (got 'macro'). You may use labels=[pos_label] to specify a single positive class.\n",
            "  warnings.warn(\n"
          ]
        },
        {
          "output_type": "execute_result",
          "data": {
            "text/plain": [
              "<matplotlib.axes._subplots.AxesSubplot at 0x7fcf5e471e80>"
            ]
          },
          "metadata": {},
          "execution_count": 38
        },
        {
          "output_type": "display_data",
          "data": {
            "text/plain": [
              "<Figure size 576x432 with 2 Axes>"
            ],
            "image/png": "[encoded data removed]"
          },
          "metadata": {
            "needs_background": "light"
          }
        }
      ],
      "source": [
        "# Logistic Regression\n",
        "\n",
        "pipe_lrc = LogisticRegression(random_state=0, solver='lbfgs', max_iter=300)\n",
        "pipe_lrc.fit(X_train_vec_pca, y_train)\n",
        "\n",
        "pred_lr2 = pipe_lrc.predict(X_test_vec_pca)\n",
        "\n",
        "LR_result = evaluate(y_test, pred_lr2)\n",
        "\n",
        "#\n",
        "score_c, matrix = get_score(y_test, pred_lr2, \"Logisitc Regression\")\n",
        "result_c.append(score_c)\n",
        "\n",
        "#plot map\n",
        "plt.figure(figsize=(8,6))\n",
        "sns.heatmap(pd.DataFrame(confusion_matrix(y_test, pred_lr2)), annot=True, cmap=\"Blues_r\", fmt='.4g')\n"
      ]
    },
    {
      "cell_type": "code",
      "source": [],
      "metadata": {
        "id": "OfxJNtBfrDgF"
      },
      "execution_count": null,
      "outputs": []
    },
    {
      "cell_type": "markdown",
      "source": [
        "# 6- KNN with the best parameters #\n",
        "\n",
        "    (With data cleaning)"
      ],
      "metadata": {
        "id": "hyD7kmYHefP9"
      }
    },
    {
      "cell_type": "code",
      "execution_count": null,
      "metadata": {
        "id": "-bzaz1Dmlwuv",
        "colab": {
          "base_uri": "https://localhost:8080/",
          "height": 776
        },
        "outputId": "daad2a19-9c4d-4596-869b-49144624db58"
      },
      "outputs": [
        {
          "output_type": "stream",
          "name": "stdout",
          "text": [
            "CONFUSION MATRIX:\n",
            "[[102  40  18   0   1   0]\n",
            " [ 67  67  20   3   2   5]\n",
            " [ 48  37  45   4   8  18]\n",
            " [ 14   6  10  40  11  63]\n",
            " [  9   4   8  23  36  93]\n",
            " [  6   8   5  12  14 113]]\n",
            "ACCURACY SCORE:\n",
            "0.4198\n",
            "CLASSIFICATION REPORT:\n",
            "\tPrecision: 0.4379\n",
            "\tRecall: 0.4207\n",
            "\tF1_Score: 0.4001\n",
            "Accuracy:\n",
            "0.4197916666666667\n"
          ]
        },
        {
          "output_type": "stream",
          "name": "stderr",
          "text": [
            "/usr/local/lib/python3.8/dist-packages/sklearn/metrics/_classification.py:1370: UserWarning: Note that pos_label (set to 'positive') is ignored when average != 'binary' (got 'macro'). You may use labels=[pos_label] to specify a single positive class.\n",
            "  warnings.warn(\n",
            "/usr/local/lib/python3.8/dist-packages/sklearn/metrics/_classification.py:1370: UserWarning: Note that pos_label (set to 'positive') is ignored when average != 'binary' (got 'macro'). You may use labels=[pos_label] to specify a single positive class.\n",
            "  warnings.warn(\n",
            "/usr/local/lib/python3.8/dist-packages/sklearn/metrics/_classification.py:1370: UserWarning: Note that pos_label (set to 'positive') is ignored when average != 'binary' (got 'macro'). You may use labels=[pos_label] to specify a single positive class.\n",
            "  warnings.warn(\n"
          ]
        },
        {
          "output_type": "execute_result",
          "data": {
            "text/plain": [
              "<matplotlib.axes._subplots.AxesSubplot at 0x7fcf5ece2250>"
            ]
          },
          "metadata": {},
          "execution_count": 39
        },
        {
          "output_type": "display_data",
          "data": {
            "text/plain": [
              "<Figure size 576x432 with 2 Axes>"
            ],
            "image/png": "[encoded data removed]"
          },
          "metadata": {
            "needs_background": "light"
          }
        }
      ],
      "source": [
        "#KNN \n",
        "\n",
        "# Pipe with best param\n",
        "pipe_knn4 = KNeighborsClassifier(n_neighbors=14, p=2, weights='distance')\n",
        "\n",
        "pipe_knn4.fit(X_train_vec_pca, y_train)\n",
        "\n",
        "\n",
        "KNN_pred2 = pipe_knn4.predict(X_test_vec_pca)\n",
        "evaluate(y_test, KNN_pred2)\n",
        "\n",
        "#\n",
        "score_c, matrix = get_score(y_test, KNN_pred2, \"KNN Model\")\n",
        "result_c.append(score_c)\n",
        "\n",
        "#plot\n",
        "plt.figure(figsize=(8,6))\n",
        "sns.heatmap(pd.DataFrame(confusion_matrix(y_test, KNN_pred2)), annot=True, cmap=\"OrRd_r\", fmt='.4g')\n"
      ]
    },
    {
      "cell_type": "code",
      "execution_count": null,
      "metadata": {
        "id": "tEHQQO1Fit3C"
      },
      "outputs": [],
      "source": []
    },
    {
      "cell_type": "markdown",
      "source": [
        "#7- Decision Tree \n",
        "    (With data cleaning)"
      ],
      "metadata": {
        "id": "L4y3ASspejwn"
      }
    },
    {
      "cell_type": "code",
      "execution_count": null,
      "metadata": {
        "id": "r9McB8-ruRPJ",
        "colab": {
          "base_uri": "https://localhost:8080/",
          "height": 776
        },
        "outputId": "c7f6a0d7-2ed8-4844-816c-3889dfe74c94"
      },
      "outputs": [
        {
          "output_type": "stream",
          "name": "stdout",
          "text": [
            "CONFUSION MATRIX:\n",
            "[[79 40 25  6  6  5]\n",
            " [43 58 33 14  8  8]\n",
            " [27 35 36 26 22 14]\n",
            " [ 6 18 20 34 34 32]\n",
            " [ 9 11 27 30 61 35]\n",
            " [ 8 16 18 29 41 46]]\n",
            "ACCURACY SCORE:\n",
            "0.3271\n",
            "CLASSIFICATION REPORT:\n",
            "\tPrecision: 0.3232\n",
            "\tRecall: 0.3249\n",
            "\tF1_Score: 0.3237\n",
            "Accuracy:\n",
            "0.32708333333333334\n"
          ]
        },
        {
          "output_type": "stream",
          "name": "stderr",
          "text": [
            "/usr/local/lib/python3.8/dist-packages/sklearn/metrics/_classification.py:1370: UserWarning: Note that pos_label (set to 'positive') is ignored when average != 'binary' (got 'macro'). You may use labels=[pos_label] to specify a single positive class.\n",
            "  warnings.warn(\n",
            "/usr/local/lib/python3.8/dist-packages/sklearn/metrics/_classification.py:1370: UserWarning: Note that pos_label (set to 'positive') is ignored when average != 'binary' (got 'macro'). You may use labels=[pos_label] to specify a single positive class.\n",
            "  warnings.warn(\n",
            "/usr/local/lib/python3.8/dist-packages/sklearn/metrics/_classification.py:1370: UserWarning: Note that pos_label (set to 'positive') is ignored when average != 'binary' (got 'macro'). You may use labels=[pos_label] to specify a single positive class.\n",
            "  warnings.warn(\n"
          ]
        },
        {
          "output_type": "execute_result",
          "data": {
            "text/plain": [
              "<matplotlib.axes._subplots.AxesSubplot at 0x7fcf59dd2370>"
            ]
          },
          "metadata": {},
          "execution_count": 40
        },
        {
          "output_type": "display_data",
          "data": {
            "text/plain": [
              "<Figure size 576x432 with 2 Axes>"
            ],
            "image/png": "[encoded data removed]"
          },
          "metadata": {
            "needs_background": "light"
          }
        }
      ],
      "source": [
        "#Decision Tree\n",
        "\n",
        "pipe_dt_c =DecisionTreeClassifier()\n",
        "pipe_dt_c.fit(X_train_vec_pca, y_train)\n",
        "\n",
        "pred_dt2 = pipe_dt_c.predict(X_test_vec_pca)\n",
        "evaluate(y_test, pred_dt2)\n",
        "\n",
        "#\n",
        "score_c, matrix = get_score(y_test, pred_dt2, \"Decision Tree\")\n",
        "result_c.append(score_c)\n",
        "\n",
        "# Plot\n",
        "plt.figure(figsize=(8,6))\n",
        "sns.heatmap(pd.DataFrame(confusion_matrix(y_test, pred_dt2)), annot=True, cmap = \"Greens_r\", fmt='.4g')\n"
      ]
    },
    {
      "cell_type": "markdown",
      "source": [
        "#8- Random Forest\n",
        "    (With data cleaning)"
      ],
      "metadata": {
        "id": "YuUJ-3zxes3V"
      }
    },
    {
      "cell_type": "code",
      "execution_count": null,
      "metadata": {
        "id": "D1G82IV8uRCb",
        "colab": {
          "base_uri": "https://localhost:8080/",
          "height": 776
        },
        "outputId": "3100370a-f045-4e03-aad9-892b15b55073"
      },
      "outputs": [
        {
          "output_type": "stream",
          "name": "stdout",
          "text": [
            "CONFUSION MATRIX:\n",
            "[[122  21  11   4   0   3]\n",
            " [ 74  51  27  10   1   1]\n",
            " [ 22  45  59  20   9   5]\n",
            " [  9  18  10  46  31  30]\n",
            " [ 12   4  13  50  55  39]\n",
            " [ 10   6  15  29  29  69]]\n",
            "ACCURACY SCORE:\n",
            "0.4188\n",
            "CLASSIFICATION REPORT:\n",
            "\tPrecision: 0.4129\n",
            "\tRecall: 0.4186\n",
            "\tF1_Score: 0.4084\n",
            "Accuracy:\n",
            "0.41875\n"
          ]
        },
        {
          "output_type": "stream",
          "name": "stderr",
          "text": [
            "/usr/local/lib/python3.8/dist-packages/sklearn/metrics/_classification.py:1370: UserWarning: Note that pos_label (set to 'positive') is ignored when average != 'binary' (got 'macro'). You may use labels=[pos_label] to specify a single positive class.\n",
            "  warnings.warn(\n",
            "/usr/local/lib/python3.8/dist-packages/sklearn/metrics/_classification.py:1370: UserWarning: Note that pos_label (set to 'positive') is ignored when average != 'binary' (got 'macro'). You may use labels=[pos_label] to specify a single positive class.\n",
            "  warnings.warn(\n",
            "/usr/local/lib/python3.8/dist-packages/sklearn/metrics/_classification.py:1370: UserWarning: Note that pos_label (set to 'positive') is ignored when average != 'binary' (got 'macro'). You may use labels=[pos_label] to specify a single positive class.\n",
            "  warnings.warn(\n"
          ]
        },
        {
          "output_type": "execute_result",
          "data": {
            "text/plain": [
              "<matplotlib.axes._subplots.AxesSubplot at 0x7fcf53eb1b80>"
            ]
          },
          "metadata": {},
          "execution_count": 41
        },
        {
          "output_type": "display_data",
          "data": {
            "text/plain": [
              "<Figure size 576x432 with 2 Axes>"
            ],
            "image/png": "[encoded data removed]"
          },
          "metadata": {
            "needs_background": "light"
          }
        }
      ],
      "source": [
        "#Random Forest\n",
        "\n",
        "random_forest_classifier = RandomForestClassifier()\n",
        "pipe_rf2 = Pipeline([('tfidf', vectorizer_c), ('random_forest_clf', random_forest_classifier)])\n",
        "pipe_rf2.fit(X_train_vec_pca, y_train)\n",
        "pred_rf2 = pipe_rf2.predict(X_test_vec_pca)\n",
        "evaluate(y_test, pred_rf2)\n",
        "\n",
        "#\n",
        "score_c, matrix = get_score(y_test, pred_rf2, \"Random Forest\")\n",
        "result_c.append(score_c)\n",
        "\n",
        "# Plot\n",
        "plt.figure(figsize=(8,6))\n",
        "sns.heatmap(pd.DataFrame(confusion_matrix(y_test, pred_rf2)), annot=True, cmap = \"BrBG\", fmt='.4g')\n"
      ]
    },
    {
      "cell_type": "code",
      "execution_count": null,
      "metadata": {
        "id": "aWfIfKtOuQ0V",
        "colab": {
          "base_uri": "https://localhost:8080/",
          "height": 206
        },
        "outputId": "270d36e8-11e5-4d0d-95da-378d0d37a4cd"
      },
      "outputs": [
        {
          "output_type": "execute_result",
          "data": {
            "text/plain": [
              "                     Precision    Recall  F1- score  Accuracy\n",
              "Model                                                        \n",
              "Logisitc Regression   0.501281  0.504158   0.499639  0.503125\n",
              "KNN Model             0.437922  0.420731   0.400117  0.419792\n",
              "Decision Tree         0.323231  0.324866   0.323665  0.327083\n",
              "Random Forest         0.412903  0.418594   0.408406  0.418750"
            ],
            "text/html": [
              "\n",
              "  <div id=\"df-f89a2129-c0ef-46fe-86e2-90f8d1b61e83\">\n",
              "    <div class=\"colab-df-container\">\n",
              "      <div>\n",
              "<style scoped>\n",
              "    .dataframe tbody tr th:only-of-type {\n",
              "        vertical-align: middle;\n",
              "    }\n",
              "\n",
              "    .dataframe tbody tr th {\n",
              "        vertical-align: top;\n",
              "    }\n",
              "\n",
              "    .dataframe thead th {\n",
              "        text-align: right;\n",
              "    }\n",
              "</style>\n",
              "<table border=\"1\" class=\"dataframe\">\n",
              "  <thead>\n",
              "    <tr style=\"text-align: right;\">\n",
              "      <th></th>\n",
              "      <th>Precision</th>\n",
              "      <th>Recall</th>\n",
              "      <th>F1- score</th>\n",
              "      <th>Accuracy</th>\n",
              "    </tr>\n",
              "    <tr>\n",
              "      <th>Model</th>\n",
              "      <th></th>\n",
              "      <th></th>\n",
              "      <th></th>\n",
              "      <th></th>\n",
              "    </tr>\n",
              "  </thead>\n",
              "  <tbody>\n",
              "    <tr>\n",
              "      <th>Logisitc Regression</th>\n",
              "      <td>0.501281</td>\n",
              "      <td>0.504158</td>\n",
              "      <td>0.499639</td>\n",
              "      <td>0.503125</td>\n",
              "    </tr>\n",
              "    <tr>\n",
              "      <th>KNN Model</th>\n",
              "      <td>0.437922</td>\n",
              "      <td>0.420731</td>\n",
              "      <td>0.400117</td>\n",
              "      <td>0.419792</td>\n",
              "    </tr>\n",
              "    <tr>\n",
              "      <th>Decision Tree</th>\n",
              "      <td>0.323231</td>\n",
              "      <td>0.324866</td>\n",
              "      <td>0.323665</td>\n",
              "      <td>0.327083</td>\n",
              "    </tr>\n",
              "    <tr>\n",
              "      <th>Random Forest</th>\n",
              "      <td>0.412903</td>\n",
              "      <td>0.418594</td>\n",
              "      <td>0.408406</td>\n",
              "      <td>0.418750</td>\n",
              "    </tr>\n",
              "  </tbody>\n",
              "</table>\n",
              "</div>\n",
              "      <button class=\"colab-df-convert\" onclick=\"convertToInteractive('df-f89a2129-c0ef-46fe-86e2-90f8d1b61e83')\"\n",
              "              title=\"Convert this dataframe to an interactive table.\"\n",
              "              style=\"display:none;\">\n",
              "        \n",
              "  <svg xmlns=\"http://www.w3.org/2000/svg\" height=\"24px\"viewBox=\"0 0 24 24\"\n",
              "       width=\"24px\">\n",
              "    <path d=\"M0 0h24v24H0V0z\" fill=\"none\"/>\n",
              "    <path d=\"M18.56 5.44l.94 2.06.94-2.06 2.06-.94-2.06-.94-.94-2.06-.94 2.06-2.06.94zm-11 1L8.5 8.5l.94-2.06 2.06-.94-2.06-.94L8.5 2.5l-.94 2.06-2.06.94zm10 10l.94 2.06.94-2.06 2.06-.94-2.06-.94-.94-2.06-.94 2.06-2.06.94z\"/><path d=\"M17.41 7.96l-1.37-1.37c-.4-.4-.92-.59-1.43-.59-.52 0-1.04.2-1.43.59L10.3 9.45l-7.72 7.72c-.78.78-.78 2.05 0 2.83L4 21.41c.39.39.9.59 1.41.59.51 0 1.02-.2 1.41-.59l7.78-7.78 2.81-2.81c.8-.78.8-2.07 0-2.86zM5.41 20L4 18.59l7.72-7.72 1.47 1.35L5.41 20z\"/>\n",
              "  </svg>\n",
              "      </button>\n",
              "      \n",
              "  <style>\n",
              "    .colab-df-container {\n",
              "      display:flex;\n",
              "      flex-wrap:wrap;\n",
              "      gap: 12px;\n",
              "    }\n",
              "\n",
              "    .colab-df-convert {\n",
              "      background-color: #E8F0FE;\n",
              "      border: none;\n",
              "      border-radius: 50%;\n",
              "      cursor: pointer;\n",
              "      display: none;\n",
              "      fill: #1967D2;\n",
              "      height: 32px;\n",
              "      padding: 0 0 0 0;\n",
              "      width: 32px;\n",
              "    }\n",
              "\n",
              "    .colab-df-convert:hover {\n",
              "      background-color: #E2EBFA;\n",
              "      box-shadow: 0px 1px 2px rgba(60, 64, 67, 0.3), 0px 1px 3px 1px rgba(60, 64, 67, 0.15);\n",
              "      fill: #174EA6;\n",
              "    }\n",
              "\n",
              "    [theme=dark] .colab-df-convert {\n",
              "      background-color: #3B4455;\n",
              "      fill: #D2E3FC;\n",
              "    }\n",
              "\n",
              "    [theme=dark] .colab-df-convert:hover {\n",
              "      background-color: #434B5C;\n",
              "      box-shadow: 0px 1px 3px 1px rgba(0, 0, 0, 0.15);\n",
              "      filter: drop-shadow(0px 1px 2px rgba(0, 0, 0, 0.3));\n",
              "      fill: #FFFFFF;\n",
              "    }\n",
              "  </style>\n",
              "\n",
              "      <script>\n",
              "        const buttonEl =\n",
              "          document.querySelector('#df-f89a2129-c0ef-46fe-86e2-90f8d1b61e83 button.colab-df-convert');\n",
              "        buttonEl.style.display =\n",
              "          google.colab.kernel.accessAllowed ? 'block' : 'none';\n",
              "\n",
              "        async function convertToInteractive(key) {\n",
              "          const element = document.querySelector('#df-f89a2129-c0ef-46fe-86e2-90f8d1b61e83');\n",
              "          const dataTable =\n",
              "            await google.colab.kernel.invokeFunction('convertToInteractive',\n",
              "                                                     [key], {});\n",
              "          if (!dataTable) return;\n",
              "\n",
              "          const docLinkHtml = 'Like what you see? Visit the ' +\n",
              "            '<a target=\"_blank\" href=https://colab.research.google.com/notebooks/data_table.ipynb>data table notebook</a>'\n",
              "            + ' to learn more about interactive tables.';\n",
              "          element.innerHTML = '';\n",
              "          dataTable['output_type'] = 'display_data';\n",
              "          await google.colab.output.renderOutput(dataTable, element);\n",
              "          const docLink = document.createElement('div');\n",
              "          docLink.innerHTML = docLinkHtml;\n",
              "          element.appendChild(docLink);\n",
              "        }\n",
              "      </script>\n",
              "    </div>\n",
              "  </div>\n",
              "  "
            ]
          },
          "metadata": {},
          "execution_count": 42
        }
      ],
      "source": [
        "# Results table of all used models\n",
        " \n",
        "results = pd.DataFrame(result_c, columns=[\"Model\", \"Precision\", \"Recall\", \"F1- score\", \"Accuracy\"])\n",
        "results=results.set_index('Model')\n",
        "results.head()"
      ]
    },
    {
      "cell_type": "code",
      "execution_count": null,
      "metadata": {
        "id": "PzUcJYtHuQva"
      },
      "outputs": [],
      "source": []
    },
    {
      "cell_type": "markdown",
      "metadata": {
        "id": "ziXhYQApvJ9s"
      },
      "source": []
    },
    {
      "cell_type": "markdown",
      "metadata": {
        "id": "-P5r5lmPxyz0"
      },
      "source": [
        "#Kaggle submission#"
      ]
    },
    {
      "cell_type": "code",
      "execution_count": null,
      "metadata": {
        "id": "DdaD7vxSx1J8"
      },
      "outputs": [],
      "source": [
        "# create the dataframe as asked\n",
        "\n",
        "# We choose to predict the unlabelled data with the logistic regression model seems to be the one giving the best accuracy \n",
        "submission_sentence =df_pred['sentence']\n",
        "\n",
        "prediction = pipe_lrc.predict(submission_sentence)\n",
        "print(prediction)\n",
        "#\n",
        "decoded = oe.inverse_transform(pd.DataFrame(prediction))\n",
        "#\n",
        "decoded\n",
        "#\n",
        "decoded_df=pd.DataFrame(decoded, columns = ['difficulty'])\n",
        "decoded_df\n",
        "\n",
        "#\n",
        "submission_df = pd.concat([df_pred,decoded_df],  axis=1)\n",
        "\n",
        "submission_df= submission_df.drop('sentence',axis=1)\n",
        "\n",
        "submission_df.to_csv('Lausanne_submission.csv', index=False)\n",
        "!cp Lausanne_submission.csv \"drive/My Drive/\"\n",
        "\n",
        "\n",
        "\n",
        "\n",
        "\n",
        "     "
      ]
    },
    {
      "cell_type": "code",
      "execution_count": null,
      "metadata": {
        "id": "WMjMy0f1eFZt"
      },
      "outputs": [],
      "source": []
    },
    {
      "cell_type": "markdown",
      "source": [
        "### So far, Logistic regression is the model giving the best performance whit or without cleaning"
      ],
      "metadata": {
        "id": "QmkCVj2nFeXT"
      }
    },
    {
      "cell_type": "markdown",
      "metadata": {
        "id": "tcZUq6l4eGts"
      },
      "source": [
        "# Improving Model Approach #"
      ]
    },
    {
      "cell_type": "markdown",
      "source": [
        "    Approches :\n",
        "      1- Camembert\n",
        "      2- PCA\n",
        "      3- Keras \n",
        "      4- SVM"
      ],
      "metadata": {
        "id": "uG4BmE5bwEHW"
      }
    },
    {
      "cell_type": "code",
      "source": [],
      "metadata": {
        "id": "nUuK0CNpwBmJ"
      },
      "execution_count": null,
      "outputs": []
    },
    {
      "cell_type": "code",
      "execution_count": null,
      "metadata": {
        "id": "L8X5y-1ZeFMv"
      },
      "outputs": [],
      "source": [
        " "
      ]
    }
  ],
  "metadata": {
    "colab": {
      "provenance": []
    },
    "kernelspec": {
      "display_name": "Python 3",
      "name": "python3"
    },
    "language_info": {
      "name": "python"
    }
  },
  "nbformat": 4,
  "nbformat_minor": 0
}